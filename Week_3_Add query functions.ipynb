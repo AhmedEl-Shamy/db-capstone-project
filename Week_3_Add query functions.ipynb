{
 "cells": [
  {
   "cell_type": "code",
   "execution_count": 1,
   "id": "aac57c2d",
   "metadata": {
    "scrolled": true
   },
   "outputs": [
    {
     "name": "stdout",
     "output_type": "stream",
     "text": [
      "Requirement already satisfied: mysql-connector-python in c:\\users\\dell\\appdata\\local\\programs\\python\\python311\\lib\\site-packages (8.0.33)\n",
      "Requirement already satisfied: protobuf<=3.20.3,>=3.11.0 in c:\\users\\dell\\appdata\\local\\programs\\python\\python311\\lib\\site-packages (from mysql-connector-python) (3.20.3)\n"
     ]
    }
   ],
   "source": [
    "!pip install mysql-connector-python"
   ]
  },
  {
   "cell_type": "code",
   "execution_count": 2,
   "id": "72a6e977",
   "metadata": {},
   "outputs": [],
   "source": [
    "import mysql.connector as connector"
   ]
  },
  {
   "cell_type": "code",
   "execution_count": 3,
   "id": "a42be9cb",
   "metadata": {},
   "outputs": [],
   "source": [
    "connection = connector.connect(user = \"root\", password = \"\", db = \"littlelemondb\") "
   ]
  },
  {
   "cell_type": "code",
   "execution_count": 4,
   "id": "7a43ffae",
   "metadata": {},
   "outputs": [],
   "source": [
    "cursor = connection.cursor()"
   ]
  },
  {
   "cell_type": "code",
   "execution_count": 5,
   "id": "8d01a27b",
   "metadata": {},
   "outputs": [
    {
     "name": "stdout",
     "output_type": "stream",
     "text": [
      "[('bookings',), ('customers',), ('menu_has_menuitems',), ('menuitems',), ('menus',), ('orderdeliverystatus',), ('orders',), ('staff',)]\n"
     ]
    }
   ],
   "source": [
    "show_tables_query = \"SHOW tables\" \n",
    "cursor.execute(show_tables_query)\n",
    "results = cursor.fetchall()\n",
    "print(results)"
   ]
  },
  {
   "cell_type": "code",
   "execution_count": 6,
   "id": "4b7e672a",
   "metadata": {},
   "outputs": [],
   "source": [
    "joinQuery = '''SELECT c.CustomerName, c.Phone as PhoneNumber, c.Email, o.TotalCost \n",
    "FROM customers as c INNER JOIN orders as o on c.CustomerID = o.CustomerID\n",
    "WHERE o.TotalCost>60;'''\n",
    "\n",
    "cursor.execute(joinQuery)\n",
    "results = cursor.fetchall()\n",
    "\n",
    "for result in results:\n",
    "    print('Customer Name: {}'.format(result[0]))\n",
    "    print('Customer Phone Number: {}'.format(result[1]))\n",
    "    print('Customer Email: {}'.format(result[2]))\n",
    "    print('Total Cost: {}'.format(result[3]))"
   ]
  },
  {
   "cell_type": "code",
   "execution_count": null,
   "id": "b7a26d12",
   "metadata": {},
   "outputs": [],
   "source": []
  }
 ],
 "metadata": {
  "kernelspec": {
   "display_name": "Python 3 (ipykernel)",
   "language": "python",
   "name": "python3"
  },
  "language_info": {
   "codemirror_mode": {
    "name": "ipython",
    "version": 3
   },
   "file_extension": ".py",
   "mimetype": "text/x-python",
   "name": "python",
   "nbconvert_exporter": "python",
   "pygments_lexer": "ipython3",
   "version": "3.11.1"
  }
 },
 "nbformat": 4,
 "nbformat_minor": 5
}
